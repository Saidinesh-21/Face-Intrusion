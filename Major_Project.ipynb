{
 "cells": [
  {
   "cell_type": "code",
   "execution_count": null,
   "id": "91391213",
   "metadata": {},
   "outputs": [],
   "source": [
    "import numpy as np\n",
    "import smtplib\n",
    "import imghdr\n",
    "from email.message import EmailMessage"
   ]
  },
  {
   "cell_type": "code",
   "execution_count": null,
   "id": "f5516821",
   "metadata": {},
   "outputs": [],
   "source": [
    "def my_label(image_name):\n",
    "    name = image_name.split('.')[-3] \n",
    "\n",
    "    \n",
    "    \n",
    "    if name==\"SaiDinesh\":\n",
    "        return np.array([1,0])\n",
    "    else:\n",
    "        return np.array([0,1])"
   ]
  },
  {
   "cell_type": "code",
   "execution_count": null,
   "id": "e5b692c3",
   "metadata": {},
   "outputs": [],
   "source": [
    "import cv2\n",
    "import os\n",
    "from random import shuffle\n",
    "from tqdm import tqdm"
   ]
  },
  {
   "cell_type": "code",
   "execution_count": null,
   "id": "75e48ead",
   "metadata": {},
   "outputs": [],
   "source": [
    "def my_data():\n",
    "    data = []\n",
    "    for img in tqdm(os.listdir(\"Images\")):\n",
    "        path=os.path.join(\"Images\",img)\n",
    "        img_data = cv2.imread(path, cv2.IMREAD_GRAYSCALE)\n",
    "        img_data = cv2.resize(img_data, (50,50))\n",
    "        data.append([np.array(img_data), my_label(img)])\n",
    "    shuffle(data)  \n",
    "    return data"
   ]
  },
  {
   "cell_type": "code",
   "execution_count": null,
   "id": "72955c84",
   "metadata": {},
   "outputs": [],
   "source": [
    "data = my_data()\n"
   ]
  },
  {
   "cell_type": "code",
   "execution_count": null,
   "id": "bb455f64",
   "metadata": {},
   "outputs": [],
   "source": [
    "train = data[:1620]  \n",
    "test = data[1620:]\n",
    "X_train = np.array([i[0] for i in train]).reshape(-1,50,50,1)\n",
    "print(X_train.shape)\n",
    "y_train = [i[1] for i in train]\n",
    "X_test = np.array([i[0] for i in test]).reshape(-1,50,50,1)\n",
    "print(X_test.shape)\n",
    "y_test = [i[1] for i in test]"
   ]
  },
  {
   "cell_type": "code",
   "execution_count": null,
   "id": "5e75e0d3",
   "metadata": {},
   "outputs": [],
   "source": [
    "import tensorflow as tf\n",
    "import tflearn\n",
    "from tflearn.layers.conv import conv_2d, max_pool_2d\n",
    "from tflearn.layers.core import input_data, dropout, fully_connected\n",
    "from tflearn.layers.estimator import regression"
   ]
  },
  {
   "cell_type": "code",
   "execution_count": null,
   "id": "bac98079",
   "metadata": {},
   "outputs": [],
   "source": [
    "from tensorflow.python.framework import ops\n",
    "ops.reset_default_graph()\n",
    "convnet = input_data(shape=[50,50,1])\n",
    "convnet = conv_2d(convnet, 32, 5, activation='relu')\n",
    "# 32 filters and stride=5 so that the filter will move 5 pixel or unit at a time\n",
    "convnet = max_pool_2d(convnet, 5)\n",
    "convnet = conv_2d(convnet, 64, 5, activation='relu')\n",
    "convnet = max_pool_2d(convnet, 5)\n",
    "convnet = conv_2d(convnet, 128, 5, activation='relu')\n",
    "convnet = max_pool_2d(convnet, 5)\n",
    "convnet = conv_2d(convnet, 64, 5, activation='relu')\n",
    "convnet = max_pool_2d(convnet, 5)\n",
    "convnet = conv_2d(convnet, 32, 5, activation='relu')\n",
    "convnet = max_pool_2d(convnet, 5)\n",
    "\n",
    "convnet = fully_connected(convnet, 1024, activation='relu')\n",
    "convnet = dropout(convnet, 0.8)\n",
    "convnet = fully_connected(convnet, 2, activation='softmax')\n",
    "convnet = regression(convnet, optimizer='adam', learning_rate = 0.001, loss='categorical_crossentropy')\n",
    "model = tflearn.DNN(convnet, tensorboard_verbose=1)\n",
    "model.fit(X_train, y_train, n_epoch=100, validation_set=(X_test, y_test), show_metric = True, run_id=\"FRS\" )"
   ]
  },
  {
   "cell_type": "code",
   "execution_count": null,
   "id": "08e63e43",
   "metadata": {},
   "outputs": [],
   "source": [
    "def data_for_visualization():\n",
    "    Vdata = []\n",
    "    for img in tqdm(os.listdir(\"Images\")):\n",
    "        path = os.path.join(\"Images\", img)\n",
    "        img_num = img.split('.')[0] \n",
    "        img_data = cv2.imread(path, cv2.IMREAD_GRAYSCALE)\n",
    "        img_data = cv2.resize(img_data, (50,50))\n",
    "        Vdata.append([np.array(img_data), img_num])\n",
    "    shuffle(Vdata)\n",
    "    return Vdata"
   ]
  },
  {
   "cell_type": "code",
   "execution_count": null,
   "id": "faefbd4c",
   "metadata": {},
   "outputs": [],
   "source": [
    "Vdata = data_for_visualization()"
   ]
  },
  {
   "cell_type": "code",
   "execution_count": null,
   "id": "f4ae82d1",
   "metadata": {},
   "outputs": [],
   "source": [
    "import matplotlib.pyplot as plt   # pip install matplotlib\n",
    "\n",
    "fig = plt.figure(figsize=(20,20))\n",
    "for num, data in enumerate(Vdata[:20]):\n",
    "    img_data = data[0]\n",
    "    y = fig.add_subplot(5,5, num+1)\n",
    "    image = img_data\n",
    "    data = img_data.reshape(50,50,1)\n",
    "    model_out = model.predict([data])[0]\n",
    "    print(model_out)\n",
    "    if np.argmax(model_out) == 0:\n",
    "        my_label = 'Sai Dinesh'\n",
    "    else:\n",
    "        my_label = 'Sri Pardhiv'\n",
    "        \n",
    "    y.imshow(image, cmap='gray')\n",
    "    plt.title(my_label)\n",
    "    \n",
    "    y.axes.get_xaxis().set_visible(False)\n",
    "    y.axes.get_yaxis().set_visible(False)\n",
    "plt.show()"
   ]
  },
  {
   "cell_type": "code",
   "execution_count": null,
   "id": "9824a9e4",
   "metadata": {},
   "outputs": [],
   "source": [
    "face_detect = cv2.CascadeClassifier('haarcascade_frontalface_default.xml')"
   ]
  },
  {
   "cell_type": "code",
   "execution_count": null,
   "id": "f6ec63b2",
   "metadata": {},
   "outputs": [],
   "source": [
    "def sendmail(image_name):\n",
    "    Sender_Email = \"neikint5435@gmail.com\"\n",
    "    Reciever_Email = \"neikint5435@gmail.com\"\n",
    "    Password = 'Saigeetha@22'\n",
    "\n",
    "    newMessage = EmailMessage()                         \n",
    "    newMessage['Subject'] = \"Intruder alert\" \n",
    "    newMessage['From'] = Sender_Email                   \n",
    "    newMessage['To'] = Reciever_Email                   \n",
    "    newMessage.set_content('Someone is entered!') \n",
    "\n",
    "    with open('sai.jpg', 'rb') as f:\n",
    "        image_data = f.read()\n",
    "        image_type = imghdr.what(f.name)\n",
    "        image_name = f.name\n",
    "\n",
    "    newMessage.add_attachment(image_data, maintype='image', subtype=image_type, filename=image_name)\n",
    "\n",
    "    with smtplib.SMTP_SSL('smtp.gmail.com', 465) as smtp:\n",
    "        smtp.login(Sender_Email, Password)              \n",
    "        smtp.send_message(newMessage)"
   ]
  },
  {
   "cell_type": "code",
   "execution_count": null,
   "id": "ef2e0fde",
   "metadata": {},
   "outputs": [],
   "source": [
    "from playsound import playsound"
   ]
  },
  {
   "cell_type": "code",
   "execution_count": null,
   "id": "9a40d1c0",
   "metadata": {},
   "outputs": [],
   "source": [
    "def sound(Text):\n",
    "    try:\n",
    "        playsound('Alert123.mp3')\n",
    "    except:\n",
    "        print(\"error occured\")"
   ]
  },
  {
   "cell_type": "code",
   "execution_count": null,
   "id": "8037fa80",
   "metadata": {},
   "outputs": [],
   "source": [
    "source = cv2.VideoCapture(0)\n",
    "while 1:\n",
    "    not_to_use, image = source.read()\n",
    "    gray = cv2.cvtColor(image, cv2.COLOR_BGR2GRAY)\n",
    "    faces = face_detect.detectMultiScale(gray, 1.3, 5)\n",
    "    for (x,y,w,h) in faces:\n",
    "        face_roi = gray[y:y+h,x:x+w]\n",
    "        resized_image = cv2.resize(face_roi, (200, 200))\n",
    "        reshaped_face = np.reshape(resized_image, (-1,50,50,1))\n",
    "        result = model.predict(reshaped_face)[0]\n",
    "        print(result , result[0] , result[1])\n",
    "        if result[0] >  0.69:\n",
    "            cv2.rectangle(image, (x, y), (x + w, y + h), (0, 255, 0), 2)\n",
    "            cv2.putText(image, \"Innocent\", (x, y), cv2.FONT_HERSHEY_SIMPLEX, 1, (0, 255, 0), 2)\n",
    "        else:\n",
    "            cv2.rectangle(image, (x, y), (x + w, y + h), (255, 0, 0), 2)\n",
    "            cv2.putText(image, \"Intruder\", (x, y), cv2.FONT_HERSHEY_SIMPLEX, 1, (255, 0, 0), 2)\n",
    "            sendmail(image)\n",
    "            Text = 'Alert sound'\n",
    "            sound(Text)\n",
    "            \n",
    "    cv2.imshow('Verzeo Project', image)\n",
    "    key = cv2.waitKey(1)\n",
    "    if key == 27:\n",
    "        break\n",
    "cv2.destroyAllWindows()\n",
    "source.release()"
   ]
  },
  {
   "cell_type": "code",
   "execution_count": null,
   "id": "af6a1a22",
   "metadata": {},
   "outputs": [],
   "source": []
  },
  {
   "cell_type": "code",
   "execution_count": null,
   "id": "4c7d7f42",
   "metadata": {},
   "outputs": [],
   "source": []
  },
  {
   "cell_type": "code",
   "execution_count": null,
   "id": "8bfad5ec",
   "metadata": {},
   "outputs": [],
   "source": []
  }
 ],
 "metadata": {
  "kernelspec": {
   "display_name": "Python 3",
   "language": "python",
   "name": "python3"
  },
  "language_info": {
   "codemirror_mode": {
    "name": "ipython",
    "version": 3
   },
   "file_extension": ".py",
   "mimetype": "text/x-python",
   "name": "python",
   "nbconvert_exporter": "python",
   "pygments_lexer": "ipython3",
   "version": "3.9.5"
  }
 },
 "nbformat": 4,
 "nbformat_minor": 5
}
